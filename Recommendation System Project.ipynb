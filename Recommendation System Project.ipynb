{
 "cells": [
  {
   "cell_type": "markdown",
   "id": "3385deb0",
   "metadata": {},
   "source": [
    "Disclaimer: The books used for this project where webscrapped from pdf drive.\n",
    "Here is the link to the webscrapping notebook - https://github.com/Preshel/Webscrap/blob/main/Recommendation%20System%20-%20WebScrap.ipynb"
   ]
  },
  {
   "cell_type": "code",
   "execution_count": 1,
   "id": "fe867540",
   "metadata": {},
   "outputs": [],
   "source": [
    "import pandas as pd"
   ]
  },
  {
   "cell_type": "code",
   "execution_count": 2,
   "id": "d3b5a8e5",
   "metadata": {},
   "outputs": [],
   "source": [
    "#reading and merging the datasets\n",
    "\n",
    "personal_development = pd.read_csv(r\"C:\\Users\\diede\\OneDrive\\Desktop\\webscrapping 1\\Personal Development.csv\")\n",
    "lifestyle = pd.read_csv(r\"C:\\Users\\diede\\OneDrive\\Desktop\\webscrapping 1\\Lifestyle.csv\")\n",
    "biography = pd.read_csv(r\"C:\\Users\\diede\\OneDrive\\Desktop\\webscrapping 1\\Biography.csv\")\n",
    "technology = pd.read_csv(r\"C:\\Users\\diede\\OneDrive\\Desktop\\webscrapping 1\\Technology.csv\")\n",
    "fiction = pd.read_csv(r\"C:\\Users\\diede\\OneDrive\\Desktop\\webscrapping 1\\Fiction.csv\")\n",
    "\n",
    "books=pd.concat([personal_development, lifestyle, biography, technology, fiction])"
   ]
  },
  {
   "cell_type": "markdown",
   "id": "307677c1",
   "metadata": {},
   "source": [
    "# NLP preprocessing"
   ]
  },
  {
   "cell_type": "code",
   "execution_count": 3,
   "id": "41ad1bff",
   "metadata": {},
   "outputs": [
    {
     "name": "stderr",
     "output_type": "stream",
     "text": [
      "[nltk_data] Downloading package punkt to\n",
      "[nltk_data]     C:\\Users\\diede\\AppData\\Roaming\\nltk_data...\n",
      "[nltk_data]   Package punkt is already up-to-date!\n",
      "[nltk_data] Downloading package wordnet to\n",
      "[nltk_data]     C:\\Users\\diede\\AppData\\Roaming\\nltk_data...\n",
      "[nltk_data]   Package wordnet is already up-to-date!\n",
      "[nltk_data] Downloading package omw-1.4 to\n",
      "[nltk_data]     C:\\Users\\diede\\AppData\\Roaming\\nltk_data...\n",
      "[nltk_data]   Package omw-1.4 is already up-to-date!\n"
     ]
    },
    {
     "data": {
      "text/plain": [
       "True"
      ]
     },
     "execution_count": 3,
     "metadata": {},
     "output_type": "execute_result"
    }
   ],
   "source": [
    "import re\n",
    "import nltk\n",
    "from nltk.tokenize import word_tokenize\n",
    "from nltk.corpus import stopwords\n",
    "from nltk.stem import WordNetLemmatizer\n",
    "\n",
    "nltk.download('punkt')\n",
    "nltk.download('wordnet')\n",
    "nltk.download('omw-1.4')"
   ]
  },
  {
   "cell_type": "code",
   "execution_count": 4,
   "id": "36cf5e1c",
   "metadata": {},
   "outputs": [],
   "source": [
    "#merging the relevant features and dropping the irrelevant columns\n",
    "\n",
    "books[\"search\"] = books[\"title\"] + \" \" + books[\"Genre\"]\n",
    "books.drop(columns = [\"title\", \"Number of Pages\", \"Year Published\", \"Genre\", \"Unnamed: 0\"], inplace=True)"
   ]
  },
  {
   "cell_type": "markdown",
   "id": "1bc9dbe1",
   "metadata": {},
   "source": [
    "#### We use only the title and genre features to build our recommender system"
   ]
  },
  {
   "cell_type": "code",
   "execution_count": 5,
   "id": "35d7f392",
   "metadata": {},
   "outputs": [],
   "source": [
    "books_stopwords=stopwords.words(\"english\") \n",
    "lemmatizer = WordNetLemmatizer()"
   ]
  },
  {
   "cell_type": "code",
   "execution_count": 6,
   "id": "52041f5a",
   "metadata": {},
   "outputs": [],
   "source": [
    "#creating the function for the cleaning process\n",
    "\n",
    "def preprocessor(search):\n",
    "    search=re.sub(\"[^A-Za-z1-9 ]\", \"\", search)\n",
    "    search = search.lower()\n",
    "    tokens = word_tokenize(search)\n",
    "    clean_search=[]\n",
    "    for token in tokens:\n",
    "        if token not in books_stopwords:\n",
    "            clean_search.append(lemmatizer.lemmatize(token))\n",
    "    return \" \".join(clean_search)"
   ]
  },
  {
   "cell_type": "markdown",
   "id": "1316549e",
   "metadata": {},
   "source": [
    "### The preprocessing process included:\n",
    "1. Removal of regular expressions\n",
    "2. Tokenization\n",
    "3. Removing the stopwords\n",
    "4. Getting the basewords using lematization"
   ]
  },
  {
   "cell_type": "code",
   "execution_count": 7,
   "id": "4d693adc",
   "metadata": {},
   "outputs": [
    {
     "data": {
      "text/plain": [
       "'living light guide personal transformation self development'"
      ]
     },
     "execution_count": 7,
     "metadata": {},
     "output_type": "execute_result"
    }
   ],
   "source": [
    "#testing the preprocessor function\n",
    "\n",
    "test = books.iloc[5,0]\n",
    "preprocessor(test)"
   ]
  },
  {
   "cell_type": "code",
   "execution_count": 8,
   "id": "bd2e7d2e",
   "metadata": {},
   "outputs": [],
   "source": [
    "#Applying the function to all the rows in the dataframe\n",
    "\n",
    "books.search = books.search.apply(preprocessor)"
   ]
  },
  {
   "cell_type": "markdown",
   "id": "85cd79b7",
   "metadata": {},
   "source": [
    "# Model Building - Using NearestNeighbors model"
   ]
  },
  {
   "cell_type": "code",
   "execution_count": 9,
   "id": "a8b1fcfa",
   "metadata": {},
   "outputs": [],
   "source": [
    "from sklearn.feature_extraction.text import TfidfVectorizer\n",
    "from sklearn.neighbors import NearestNeighbors\n",
    "from sklearn.metrics.pairwise import cosine_similarity"
   ]
  },
  {
   "cell_type": "code",
   "execution_count": 10,
   "id": "d147865a",
   "metadata": {},
   "outputs": [],
   "source": [
    "#Using the Tfidfvectorizer method to transform the data to numerical data\n",
    "\n",
    "vectorizer = TfidfVectorizer() "
   ]
  },
  {
   "cell_type": "code",
   "execution_count": 11,
   "id": "f41755cb",
   "metadata": {},
   "outputs": [],
   "source": [
    "#training the data and transforming it to an array\n",
    "\n",
    "search_matrix = vectorizer.fit_transform(books.search)\n",
    "search_matrix = search_matrix.toarray()"
   ]
  },
  {
   "cell_type": "code",
   "execution_count": 12,
   "id": "c6513228",
   "metadata": {},
   "outputs": [],
   "source": [
    "#setting the model to use cosine similiarity to select the nearest neighbours\n",
    "\n",
    "nearestneighbors = NearestNeighbors(metric=\"cosine\")"
   ]
  },
  {
   "cell_type": "code",
   "execution_count": 13,
   "id": "acb5dd5c",
   "metadata": {},
   "outputs": [
    {
     "data": {
      "text/html": [
       "<style>#sk-container-id-1 {color: black;background-color: white;}#sk-container-id-1 pre{padding: 0;}#sk-container-id-1 div.sk-toggleable {background-color: white;}#sk-container-id-1 label.sk-toggleable__label {cursor: pointer;display: block;width: 100%;margin-bottom: 0;padding: 0.3em;box-sizing: border-box;text-align: center;}#sk-container-id-1 label.sk-toggleable__label-arrow:before {content: \"▸\";float: left;margin-right: 0.25em;color: #696969;}#sk-container-id-1 label.sk-toggleable__label-arrow:hover:before {color: black;}#sk-container-id-1 div.sk-estimator:hover label.sk-toggleable__label-arrow:before {color: black;}#sk-container-id-1 div.sk-toggleable__content {max-height: 0;max-width: 0;overflow: hidden;text-align: left;background-color: #f0f8ff;}#sk-container-id-1 div.sk-toggleable__content pre {margin: 0.2em;color: black;border-radius: 0.25em;background-color: #f0f8ff;}#sk-container-id-1 input.sk-toggleable__control:checked~div.sk-toggleable__content {max-height: 200px;max-width: 100%;overflow: auto;}#sk-container-id-1 input.sk-toggleable__control:checked~label.sk-toggleable__label-arrow:before {content: \"▾\";}#sk-container-id-1 div.sk-estimator input.sk-toggleable__control:checked~label.sk-toggleable__label {background-color: #d4ebff;}#sk-container-id-1 div.sk-label input.sk-toggleable__control:checked~label.sk-toggleable__label {background-color: #d4ebff;}#sk-container-id-1 input.sk-hidden--visually {border: 0;clip: rect(1px 1px 1px 1px);clip: rect(1px, 1px, 1px, 1px);height: 1px;margin: -1px;overflow: hidden;padding: 0;position: absolute;width: 1px;}#sk-container-id-1 div.sk-estimator {font-family: monospace;background-color: #f0f8ff;border: 1px dotted black;border-radius: 0.25em;box-sizing: border-box;margin-bottom: 0.5em;}#sk-container-id-1 div.sk-estimator:hover {background-color: #d4ebff;}#sk-container-id-1 div.sk-parallel-item::after {content: \"\";width: 100%;border-bottom: 1px solid gray;flex-grow: 1;}#sk-container-id-1 div.sk-label:hover label.sk-toggleable__label {background-color: #d4ebff;}#sk-container-id-1 div.sk-serial::before {content: \"\";position: absolute;border-left: 1px solid gray;box-sizing: border-box;top: 0;bottom: 0;left: 50%;z-index: 0;}#sk-container-id-1 div.sk-serial {display: flex;flex-direction: column;align-items: center;background-color: white;padding-right: 0.2em;padding-left: 0.2em;position: relative;}#sk-container-id-1 div.sk-item {position: relative;z-index: 1;}#sk-container-id-1 div.sk-parallel {display: flex;align-items: stretch;justify-content: center;background-color: white;position: relative;}#sk-container-id-1 div.sk-item::before, #sk-container-id-1 div.sk-parallel-item::before {content: \"\";position: absolute;border-left: 1px solid gray;box-sizing: border-box;top: 0;bottom: 0;left: 50%;z-index: -1;}#sk-container-id-1 div.sk-parallel-item {display: flex;flex-direction: column;z-index: 1;position: relative;background-color: white;}#sk-container-id-1 div.sk-parallel-item:first-child::after {align-self: flex-end;width: 50%;}#sk-container-id-1 div.sk-parallel-item:last-child::after {align-self: flex-start;width: 50%;}#sk-container-id-1 div.sk-parallel-item:only-child::after {width: 0;}#sk-container-id-1 div.sk-dashed-wrapped {border: 1px dashed gray;margin: 0 0.4em 0.5em 0.4em;box-sizing: border-box;padding-bottom: 0.4em;background-color: white;}#sk-container-id-1 div.sk-label label {font-family: monospace;font-weight: bold;display: inline-block;line-height: 1.2em;}#sk-container-id-1 div.sk-label-container {text-align: center;}#sk-container-id-1 div.sk-container {/* jupyter's `normalize.less` sets `[hidden] { display: none; }` but bootstrap.min.css set `[hidden] { display: none !important; }` so we also need the `!important` here to be able to override the default hidden behavior on the sphinx rendered scikit-learn.org. See: https://github.com/scikit-learn/scikit-learn/issues/21755 */display: inline-block !important;position: relative;}#sk-container-id-1 div.sk-text-repr-fallback {display: none;}</style><div id=\"sk-container-id-1\" class=\"sk-top-container\"><div class=\"sk-text-repr-fallback\"><pre>NearestNeighbors(metric=&#x27;cosine&#x27;)</pre><b>In a Jupyter environment, please rerun this cell to show the HTML representation or trust the notebook. <br />On GitHub, the HTML representation is unable to render, please try loading this page with nbviewer.org.</b></div><div class=\"sk-container\" hidden><div class=\"sk-item\"><div class=\"sk-estimator sk-toggleable\"><input class=\"sk-toggleable__control sk-hidden--visually\" id=\"sk-estimator-id-1\" type=\"checkbox\" checked><label for=\"sk-estimator-id-1\" class=\"sk-toggleable__label sk-toggleable__label-arrow\">NearestNeighbors</label><div class=\"sk-toggleable__content\"><pre>NearestNeighbors(metric=&#x27;cosine&#x27;)</pre></div></div></div></div></div>"
      ],
      "text/plain": [
       "NearestNeighbors(metric='cosine')"
      ]
     },
     "execution_count": 13,
     "metadata": {},
     "output_type": "execute_result"
    }
   ],
   "source": [
    "nearestneighbors.fit(search_matrix)"
   ]
  },
  {
   "cell_type": "code",
   "execution_count": 14,
   "id": "42895f64",
   "metadata": {},
   "outputs": [],
   "source": [
    "#defining a function that will be used for the test data\n",
    "\n",
    "def infer(search):\n",
    "    search = preprocessor(search)\n",
    "    search_matrix = vectorizer.transform([search])\n",
    "    return nearestneighbors.kneighbors(n_neighbors=5, X = search_matrix, return_distance=False)"
   ]
  },
  {
   "cell_type": "code",
   "execution_count": 15,
   "id": "0dc174a7",
   "metadata": {},
   "outputs": [],
   "source": [
    "def final(search):\n",
    "    search = infer(search)\n",
    "    for book in search:\n",
    "        result = books.iloc[book]\n",
    "        return result"
   ]
  },
  {
   "cell_type": "code",
   "execution_count": 17,
   "id": "1cffac8d",
   "metadata": {},
   "outputs": [
    {
     "name": "stdout",
     "output_type": "stream",
     "text": [
      "                                      search\n",
      "73                     web design technology\n",
      "35  modern web design development technology\n",
      "71      mastering web application technology\n",
      "31            cs web design dummy technology\n",
      "98     new perspective web design technology\n"
     ]
    }
   ],
   "source": [
    "print(final(\"web\"))"
   ]
  },
  {
   "cell_type": "markdown",
   "id": "2a2e0d57",
   "metadata": {},
   "source": [
    "# An attempt on model deployment using Gradio"
   ]
  },
  {
   "cell_type": "code",
   "execution_count": 18,
   "id": "8daf7bc3",
   "metadata": {},
   "outputs": [],
   "source": [
    "import gradio as gr"
   ]
  },
  {
   "cell_type": "code",
   "execution_count": 19,
   "id": "a6ca2b74",
   "metadata": {},
   "outputs": [
    {
     "name": "stdout",
     "output_type": "stream",
     "text": [
      "Running on local URL:  http://127.0.0.1:7860\n",
      "\n",
      "To create a public link, set `share=True` in `launch()`.\n"
     ]
    },
    {
     "data": {
      "text/html": [
       "<div><iframe src=\"http://127.0.0.1:7860/\" width=\"100%\" height=\"500\" allow=\"autoplay; camera; microphone; clipboard-read; clipboard-write;\" frameborder=\"0\" allowfullscreen></iframe></div>"
      ],
      "text/plain": [
       "<IPython.core.display.HTML object>"
      ]
     },
     "metadata": {},
     "output_type": "display_data"
    },
    {
     "data": {
      "text/plain": []
     },
     "execution_count": 19,
     "metadata": {},
     "output_type": "execute_result"
    }
   ],
   "source": [
    "demo = gr.Interface(\n",
    "    fn=final,\n",
    "    inputs=gr.Textbox(lines=1, placeholder=\"Find a book...\"),\n",
    "    outputs=\"text\",\n",
    ")\n",
    "demo.launch()"
   ]
  },
  {
   "cell_type": "code",
   "execution_count": null,
   "id": "5de3644e",
   "metadata": {},
   "outputs": [],
   "source": []
  }
 ],
 "metadata": {
  "kernelspec": {
   "display_name": "Python 3 (ipykernel)",
   "language": "python",
   "name": "python3"
  },
  "language_info": {
   "codemirror_mode": {
    "name": "ipython",
    "version": 3
   },
   "file_extension": ".py",
   "mimetype": "text/x-python",
   "name": "python",
   "nbconvert_exporter": "python",
   "pygments_lexer": "ipython3",
   "version": "3.9.13"
  }
 },
 "nbformat": 4,
 "nbformat_minor": 5
}
