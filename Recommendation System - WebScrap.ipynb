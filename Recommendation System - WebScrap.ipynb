{
 "cells": [
  {
   "cell_type": "code",
   "execution_count": 20,
   "id": "74fef93a",
   "metadata": {},
   "outputs": [],
   "source": [
    "#import the necessary libraries for webscrapping\n",
    "\n",
    "import requests\n",
    "import bs4\n",
    "import pandas as pd"
   ]
  },
  {
   "cell_type": "code",
   "execution_count": 21,
   "id": "c223f6ef",
   "metadata": {},
   "outputs": [],
   "source": [
    "#extract data from the source\n",
    "\n",
    "def extract(page):\n",
    "    headers = {'User-Agent': 'Mozilla/5.0 (Windows NT 10.0; Win64; x64) AppleWebKit/537.36 (KHTML, like Gecko) Chrome/108.0.0.0 Safari/537.36 Edg/108.0.1462.54'}\n",
    "    url = f'https://www.pdfdrive.com/category/4/p{page}/'\n",
    "    response = requests.get(url, headers=headers)\n",
    "    soup = bs4.BeautifulSoup(response.text, \"lxml\")\n",
    "    return soup"
   ]
  },
  {
   "cell_type": "code",
   "execution_count": 22,
   "id": "113a0e25",
   "metadata": {},
   "outputs": [],
   "source": [
    "#get the info for personal development books\n",
    "\n",
    "def transform(soup, info):\n",
    "    divs = soup.find_all(\"div\", class_='file-right')\n",
    "    for item in divs:\n",
    "        title = item.find('h2').text\n",
    "        pages=item.find(\"span\", class_=\"fi-pagecount\").text\n",
    "        year=item.find(\"span\", class_=\"fi-year\").text\n",
    "        Books={\n",
    "            'title': title, \n",
    "            'Number of Pages': pages, \n",
    "            'Year Published': year\n",
    "        }\n",
    "        info.append(Books)\n",
    "    return"
   ]
  },
  {
   "cell_type": "code",
   "execution_count": 23,
   "id": "a3b0fe20",
   "metadata": {},
   "outputs": [],
   "source": [
    "info1 = []\n",
    "for i in range(1,20,2):\n",
    "    c = extract(i)\n",
    "    transform(c, info1)"
   ]
  },
  {
   "cell_type": "code",
   "execution_count": 24,
   "id": "d28af2c9",
   "metadata": {},
   "outputs": [],
   "source": [
    "self_dev = pd.DataFrame(info1)\n",
    "self_dev.drop_duplicates(inplace=True)\n",
    "self_dev.reset_index()\n",
    "self_dev[\"Genre\"] = 'Self Development'\n",
    "self_dev.to_csv(r'C:\\Users\\diede\\OneDrive\\Desktop\\webscrapping 1\\Personal Development.csv')"
   ]
  },
  {
   "cell_type": "code",
   "execution_count": null,
   "id": "4e688ad5",
   "metadata": {},
   "outputs": [],
   "source": []
  },
  {
   "cell_type": "code",
   "execution_count": 25,
   "id": "af875c45",
   "metadata": {},
   "outputs": [],
   "source": [
    "#get the info for lifestyle books\n",
    "\n",
    "def extract2(page):\n",
    "    headers = {'User-Agent': 'Mozilla/5.0 (Windows NT 10.0; Win64; x64) AppleWebKit/537.36 (KHTML, like Gecko) Chrome/108.0.0.0 Safari/537.36 Edg/108.0.1462.54'}\n",
    "    url = f'https://www.pdfdrive.com/category/19/p{page}/'\n",
    "    response = requests.get(url, headers=headers)\n",
    "    soup = bs4.BeautifulSoup(response.text, \"lxml\")\n",
    "    return soup"
   ]
  },
  {
   "cell_type": "code",
   "execution_count": 26,
   "id": "ea119f33",
   "metadata": {},
   "outputs": [],
   "source": [
    "info2=[]\n",
    "for i in range(1,20,2):\n",
    "    b = extract2(i)\n",
    "    transform(b, info2)"
   ]
  },
  {
   "cell_type": "code",
   "execution_count": 27,
   "id": "7f13e294",
   "metadata": {},
   "outputs": [],
   "source": [
    "lifestyle = pd.DataFrame(info2)\n",
    "lifestyle.drop_duplicates(inplace=True)\n",
    "lifestyle.reset_index()\n",
    "lifestyle[\"Genre\"] = 'Lifestyle'\n",
    "lifestyle.to_csv(r\"C:\\Users\\diede\\OneDrive\\Desktop\\webscrapping 1\\Lifestyle.csv\")"
   ]
  },
  {
   "cell_type": "code",
   "execution_count": null,
   "id": "e57d9717",
   "metadata": {},
   "outputs": [],
   "source": []
  },
  {
   "cell_type": "code",
   "execution_count": 28,
   "id": "0a57bef3",
   "metadata": {},
   "outputs": [],
   "source": [
    "#get the info for biography books\n",
    "\n",
    "def extract3(page):\n",
    "    headers = {'User-Agent': 'Mozilla/5.0 (Windows NT 10.0; Win64; x64) AppleWebKit/537.36 (KHTML, like Gecko) Chrome/108.0.0.0 Safari/537.36 Edg/108.0.1462.54'}\n",
    "    url = f'https://www.pdfdrive.com/category/16/p{page}/'\n",
    "    response = requests.get(url, headers=headers)\n",
    "    soup = bs4.BeautifulSoup(response.text, \"lxml\")\n",
    "    return soup"
   ]
  },
  {
   "cell_type": "code",
   "execution_count": 29,
   "id": "b40d957d",
   "metadata": {},
   "outputs": [],
   "source": [
    "info3=[]\n",
    "for i in range(1,20,2):\n",
    "    a = extract3(i)\n",
    "    transform(a, info3)"
   ]
  },
  {
   "cell_type": "code",
   "execution_count": 30,
   "id": "c5660fc2",
   "metadata": {},
   "outputs": [],
   "source": [
    "biography = pd.DataFrame(info3)\n",
    "biography.drop_duplicates(inplace=True)\n",
    "biography.reset_index()\n",
    "biography[\"Genre\"] = 'Biography'\n",
    "biography.to_csv(r\"C:\\Users\\diede\\OneDrive\\Desktop\\webscrapping 1\\Biography.csv\")"
   ]
  },
  {
   "cell_type": "code",
   "execution_count": null,
   "id": "5e2f452c",
   "metadata": {},
   "outputs": [],
   "source": []
  },
  {
   "cell_type": "code",
   "execution_count": 31,
   "id": "d369cbf8",
   "metadata": {},
   "outputs": [],
   "source": [
    "#get the info for fiction books\n",
    "\n",
    "def extract4(page):\n",
    "    headers = {'User-Agent': 'Mozilla/5.0 (Windows NT 10.0; Win64; x64) AppleWebKit/537.36 (KHTML, like Gecko) Chrome/108.0.0.0 Safari/537.36 Edg/108.0.1462.54'}\n",
    "    url = f'https://www.pdfdrive.com/category/11/p{page}/'\n",
    "    response = requests.get(url, headers=headers)\n",
    "    soup = bs4.BeautifulSoup(response.text, \"lxml\")\n",
    "    return soup"
   ]
  },
  {
   "cell_type": "code",
   "execution_count": 32,
   "id": "44068023",
   "metadata": {},
   "outputs": [],
   "source": [
    "info4=[]\n",
    "for i in range(1,20,2):\n",
    "    d = extract4(i)\n",
    "    transform(d, info4)"
   ]
  },
  {
   "cell_type": "code",
   "execution_count": 33,
   "id": "5bdb6866",
   "metadata": {},
   "outputs": [],
   "source": [
    "fiction = pd.DataFrame(info4)\n",
    "fiction.drop_duplicates(inplace=True)\n",
    "fiction.reset_index()\n",
    "fiction[\"Genre\"] = 'Fiction'\n",
    "fiction.to_csv(r\"C:\\Users\\diede\\OneDrive\\Desktop\\webscrapping 1\\Fiction.csv\")"
   ]
  },
  {
   "cell_type": "code",
   "execution_count": null,
   "id": "ccca7dd0",
   "metadata": {},
   "outputs": [],
   "source": []
  },
  {
   "cell_type": "code",
   "execution_count": 34,
   "id": "4ffae8cf",
   "metadata": {},
   "outputs": [],
   "source": [
    "#get the info for technology books\n",
    "\n",
    "def extract5(page):\n",
    "    headers = {'User-Agent': 'Mozilla/5.0 (Windows NT 10.0; Win64; x64) AppleWebKit/537.36 (KHTML, like Gecko) Chrome/108.0.0.0 Safari/537.36 Edg/108.0.1462.54'}\n",
    "    url = f'https://www.pdfdrive.com/category/5/p{page}/'\n",
    "    response = requests.get(url, headers=headers)\n",
    "    soup = bs4.BeautifulSoup(response.text, \"lxml\")\n",
    "    return soup"
   ]
  },
  {
   "cell_type": "code",
   "execution_count": 38,
   "id": "86678ed7",
   "metadata": {},
   "outputs": [],
   "source": [
    "info5=[]\n",
    "for i in range(1,20,2):\n",
    "    d = extract5(i)\n",
    "    transform(d, info5)"
   ]
  },
  {
   "cell_type": "code",
   "execution_count": 39,
   "id": "c26c85fc",
   "metadata": {},
   "outputs": [],
   "source": [
    "technology = pd.DataFrame(info5)\n",
    "technology.drop_duplicates(inplace=True)\n",
    "technology.reset_index()\n",
    "technology[\"Genre\"] = 'Technology'\n",
    "technology.to_csv(r\"C:\\Users\\diede\\OneDrive\\Desktop\\webscrapping 1\\Technology.csv\")"
   ]
  }
 ],
 "metadata": {
  "kernelspec": {
   "display_name": "Python 3 (ipykernel)",
   "language": "python",
   "name": "python3"
  },
  "language_info": {
   "codemirror_mode": {
    "name": "ipython",
    "version": 3
   },
   "file_extension": ".py",
   "mimetype": "text/x-python",
   "name": "python",
   "nbconvert_exporter": "python",
   "pygments_lexer": "ipython3",
   "version": "3.9.13"
  }
 },
 "nbformat": 4,
 "nbformat_minor": 5
}
